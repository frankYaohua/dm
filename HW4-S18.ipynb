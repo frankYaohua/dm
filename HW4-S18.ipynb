{
 "cells": [
  {
   "cell_type": "markdown",
   "metadata": {
    "collapsed": true,
    "ein.tags": "worksheet-0",
    "slideshow": {
     "slide_type": "-"
    }
   },
   "source": [
    "\n",
    "# <p style=\"text-align: center;\">EE 380L: Data Mining</p>\n",
    "# <p style=\"text-align: center;\">Assignment 4</p>\n",
    "## <p style=\"text-align: center;\">Total points: 70</p>\n",
    "## <p style=\"text-align: center;\">Due: Thursday, April 5th, submitted via Canvas by 11:59 pm</p>\n",
    "\n",
    "Your homework should be written in a **Jupyter notebook**. You may work in groups of two if you wish. Only one student per team needs to submit the assignment on Canvas.  But be sure to include name and UTID for both students.  Homework groups will be created and managed through Canvas, so please do not arbitrarily change your homework group.  \n",
    "\n",
    "Also, please make sure your code runs and the graphics (and anything else) are displayed in your notebook before submitting. (%matplotlib inline)"
   ]
  },
  {
   "cell_type": "markdown",
   "metadata": {
    "ein.tags": "worksheet-0",
    "slideshow": {
     "slide_type": "-"
    }
   },
   "source": [
    "## Name: \n",
    "## UT EID:\n",
    "\n",
    "## Name:\n",
    "## UT EID:"
   ]
  },
  {
   "cell_type": "markdown",
   "metadata": {},
   "source": [
    "### Note: Q1 and Q3 may take a long time to run (a few hours). It will be more convenient if you run them on a powerful machine. Of course, this is also a good opportunity to use the Azure cloud."
   ]
  },
  {
   "cell_type": "markdown",
   "metadata": {
    "ein.tags": "worksheet-0",
    "slideshow": {
     "slide_type": "-"
    }
   },
   "source": [
    "# Question 1:  2 class Classification (30 pts)\n",
    "\n",
    "In this problem, you will evaluate the performance of 6 classifiers in classifying signal vs background in the MAGIC Gamma Telescope Data Set. The data has been split into training and test as well as standardized for you. \n",
    "You will train the following models on this dataset:\n",
    "\n",
    "1. Gaussian Naive Bayes (http://scikit-learn.org/stable/modules/generated/sklearn.naive_bayes.GaussianNB.html)\n",
    "2. Linear Discriminant Analysis (http://scikit-learn.org/stable/modules/lda_qda.html)\n",
    "3. Quadratic Discriminant Analysis\n",
    "4. Logistic Regression (http://scikit-learn.org/stable/modules/generated/sklearn.linear_model.LogisticRegressionCV.html)\n",
    "5. Linear SVM (http://scikit-learn.org/stable/modules/generated/sklearn.svm.SVC.html#sklearn.svm.SVC)\n",
    "6. Radial Basis Function SVM. \n",
    "\n",
    "For Logistic Regression, you will have to run kFold cross validation with 5 folds to get the best value of C. C is the inverse of the regularization hyper-parameter.\n",
    "For SVM (linear and rbf), you will use GridSearchCV (http://scikit-learn.org/stable/modules/generated/sklearn.grid_search.GridSearchCV.html) with cv set to 5, to identify the correct value of C. Use `Cs = 10**np.linspace(-2, 2, 10)` as the range of C for SVM gridsearch\n",
    "\n",
    "Note: Maintain all other parameters at their default settings.\n",
    "\n",
    "The deliverables for this Problem are the following:\n",
    "1. Use cross validation to find the best C for logistic regression, linear SVM and rbf SVM. (C means different things for each of the models. Please refer the documentation of each API in sklearn for this) (9 points - 3 points per model)\n",
    "2. Report the Mean Error Rate = (1 - model_score) for each of these 3 models. (9 points - 3 points per model)\n",
    "3. Train all 6 models using the best C for logistic regression, linear SVM and rbf SVM. Plot the ROC curve for each of these in one figure. Report the area under the curve (AUC) and accuracy for all 6. (12 points)\n",
    "\n",
    "Note: SVM by default only learns a decision function. In order to obtain ROC curve, you will need prediction probabilities as well. This will require you to set probability=True when training SVM models.\n",
    "\n",
    "Note: It is a good idea to measure the time taken to run the fit function for each hyperparameter setting to estimate the time for gridSearchCv on a range of hyperparameters."
   ]
  },
  {
   "cell_type": "code",
   "execution_count": 6,
   "metadata": {
    "autoscroll": false,
    "ein.tags": "worksheet-0",
    "slideshow": {
     "slide_type": "-"
    }
   },
   "outputs": [],
   "source": [
    "%matplotlib inline\n",
    "import pandas as pd\n",
    "from sklearn.model_selection import train_test_split\n",
    "from sklearn.metrics import roc_curve, roc_auc_score\n",
    "from sklearn.naive_bayes import GaussianNB\n",
    "from sklearn.discriminant_analysis import LinearDiscriminantAnalysis as LDA\n",
    "from sklearn.discriminant_analysis import QuadraticDiscriminantAnalysis as QDA\n",
    "from sklearn import preprocessing\n",
    "from sklearn.model_selection import KFold\n",
    "from sklearn.linear_model import LogisticRegressionCV, LogisticRegression\n",
    "from sklearn.svm import SVC\n",
    "from sklearn.model_selection import GridSearchCV\n",
    "import numpy as np\n",
    "import matplotlib.pyplot as plt"
   ]
  },
  {
   "cell_type": "code",
   "execution_count": 7,
   "metadata": {
    "autoscroll": false,
    "ein.tags": "worksheet-0",
    "slideshow": {
     "slide_type": "-"
    }
   },
   "outputs": [
    {
     "name": "stderr",
     "output_type": "stream",
     "text": [
      "/anaconda/envs/py35/lib/python3.5/site-packages/sklearn/utils/validation.py:475: DataConversionWarning: Data with input dtype object was converted to float64 by the scale function.\n",
      "  warnings.warn(msg, DataConversionWarning)\n"
     ]
    }
   ],
   "source": [
    "# load data\n",
    "# train\n",
    "train = pd.read_csv('magic_train.csv', header=None)\n",
    "y_train = train.values[:,10]\n",
    "y_train[y_train == 'g'] = 0\n",
    "y_train[y_train == 'h'] = 1\n",
    "y_train = y_train.astype(float)\n",
    "X_train = train.values[:,:10]\n",
    "\n",
    "# test\n",
    "test = pd.read_csv('magic_test.csv', header=None)\n",
    "y_test = test.values[:,10]\n",
    "y_test[y_test == 'g'] = 0\n",
    "y_test[y_test == 'h'] = 1\n",
    "y_test = y_test.astype(float)\n",
    "X_test = test.values[:,:10]\n",
    "\n",
    "# standardize the data\n",
    "X_train = preprocessing.scale(X_train)\n",
    "X_test = preprocessing.scale(X_test)"
   ]
  },
  {
   "cell_type": "code",
   "execution_count": 8,
   "metadata": {},
   "outputs": [
    {
     "name": "stdout",
     "output_type": "stream",
     "text": [
      "best C for logistic regression model is: [0.35938137]\n",
      "mean error rate is: 1 - 0.7960572226099093\n"
     ]
    }
   ],
   "source": [
    "# logistic regression with cross validation 5\n",
    "lr_cv = LogisticRegressionCV(cv=5, n_jobs=-1)\n",
    "lr_cv.fit(X_train, y_train)\n",
    "y_predict = lr_cv.predict(X_test)\n",
    "# find the Cs and best C\n",
    "print(\"best C for logistic regression model is: \" + str(lr_cv.C_))\n",
    "\n",
    "# Mean Error Rate 1 - model_score\n",
    "print(\"mean error rate is: 1 - \" + str(lr_cv.score(X_test, y_test)))"
   ]
  },
  {
   "cell_type": "code",
   "execution_count": 9,
   "metadata": {},
   "outputs": [
    {
     "name": "stdout",
     "output_type": "stream",
     "text": [
      "best C for linear support vectore machine is: {'C': 0.027825594022071243}\n",
      "mean error rate is: 1 - 0.7978018143754362\n"
     ]
    }
   ],
   "source": [
    "# Linear SVM\n",
    "Cs = 10**np.linspace(-2, 2, 10)\n",
    "parameters = {'C':Cs}\n",
    "lsvm = SVC(kernel='linear', probability=True)\n",
    "clf = GridSearchCV(lsvm, parameters, cv=5, n_jobs=-1)\n",
    "clf.fit(X_train, y_train)\n",
    "print(\"best C for linear support vectore machine is: \" + str(clf.best_params_))\n",
    "\n",
    "# Mean Error Rate 1 - model_score\n",
    "print(\"mean error rate is: 1 - \" + str(clf.score(X_test, y_test)))"
   ]
  },
  {
   "cell_type": "code",
   "execution_count": 13,
   "metadata": {},
   "outputs": [
    {
     "name": "stdout",
     "output_type": "stream",
     "text": [
      "best C for RBF support vectore machine is: {'C': 100.0}\n",
      "mean error rate is: 1 - 0.8707257501744592\n"
     ]
    }
   ],
   "source": [
    "# RBF SVM\n",
    "Cs = 10**np.linspace(-2, 2, 10)\n",
    "parameters = {'C':Cs}\n",
    "rbfsvm = SVC(kernel='rbf', probability=True)\n",
    "clf = GridSearchCV(rbfsvm, parameters, cv=5, n_jobs=-1)\n",
    "clf.fit(X_train, y_train)\n",
    "print(\"best C for RBF support vectore machine is: \" + str(clf.best_params_))\n",
    "\n",
    "# Mean Error Rate 1 - model_score\n",
    "print(\"mean error rate is: 1 - \" + str(clf.score(X_test, y_test)))"
   ]
  },
  {
   "cell_type": "markdown",
   "metadata": {},
   "source": [
    "## Question 1 (1) Responses:\n",
    "1. best C for logistic regression model is: [ 0.35938137], the best C is the average of the C's that correspond to the best scores for each fold.\n",
    "2. best C for linear support vectore machine is: {'C': 0.027825594022071243}, here, C is the penalty parameter C of the error term.\n",
    "3. best C for RBF support vectore machine is: {'C': 100.0}, here, C is the penalty parameter C of the error term."
   ]
  },
  {
   "cell_type": "markdown",
   "metadata": {},
   "source": [
    "## Question 1 (2) Responses:\n",
    "mean error rate for logistic regression is: 1 - 0.7960572226099093   \n",
    "mean error rate for linear support vector machine is: 1 - 0.7978018143754362   \n",
    "mean error rate for RBF support vector machine is: 1 - 0.8707257501744592"
   ]
  },
  {
   "cell_type": "code",
   "execution_count": 14,
   "metadata": {},
   "outputs": [
    {
     "name": "stdout",
     "output_type": "stream",
     "text": [
      "GNB AUC: 0.7711995034383418\n",
      "GNB Accuracy: 0.7316817864619679\n",
      "LDA AUC: 0.8461535909897093\n",
      "LDA Accuracy: 0.7885554780181437\n",
      "QDA AUC: 0.8719141865452542\n",
      "QDA Accuracy: 0.7864619678995115\n",
      "LR AUC: 0.8473600988877387\n",
      "LR Accuracy: 0.7960572226099093\n",
      "LSVM AUC: 0.8430521372491965\n",
      "LSVM Accuracy: 0.7955338450802513\n",
      "RBFSVM AUC: 0.925823581291737\n",
      "RBFSVM Accuracy: 0.8705512909979065\n"
     ]
    },
    {
     "data": {
      "image/png": "[encoded data removed]",
      "text/plain": [
       "<matplotlib.figure.Figure at 0x7f33dc0b1978>"
      ]
     },
     "metadata": {},
     "output_type": "display_data"
    }
   ],
   "source": [
    "from sklearn.metrics import accuracy_score\n",
    "\n",
    "# GaussianNB\n",
    "gnb = GaussianNB()\n",
    "gnb.fit(X_train, y_train)\n",
    "y_predict = gnb.predict_proba(X_test)\n",
    "preds = y_predict[:,1]\n",
    "fpr, tpr, thresholds = roc_curve(y_test, preds)\n",
    "plt.plot(fpr, tpr, label='GaussianNB')\n",
    "print(\"GNB AUC: \" + str(roc_auc_score(y_test, preds)))  # auc\n",
    "print(\"GNB Accuracy: \" + str(accuracy_score(y_test, preds.round())))  # accuracy after normalized\n",
    "\n",
    "# Linear Discriminant Analysis\n",
    "lda = LDA()\n",
    "lda.fit(X_train, y_train)\n",
    "y_predict = lda.predict_proba(X_test)\n",
    "preds = y_predict[:,1]\n",
    "fpr, tpr, thresholds = roc_curve(y_test, preds)\n",
    "plt.plot(fpr, tpr, label='LDA')\n",
    "print(\"LDA AUC: \" + str(roc_auc_score(y_test, preds)))\n",
    "print(\"LDA Accuracy: \" + str(accuracy_score(y_test, preds.round())))\n",
    "\n",
    "# Quadratic Discriminant Analysis\n",
    "qda = QDA()\n",
    "qda.fit(X_train, y_train)\n",
    "y_predict = qda.predict_proba(X_test)\n",
    "preds = y_predict[:,1]\n",
    "fpr, tpr, thresholds = roc_curve(y_test, preds)\n",
    "plt.plot(fpr, tpr, label='QDA')\n",
    "print(\"QDA AUC: \" + str(roc_auc_score(y_test, preds)))\n",
    "print(\"QDA Accuracy: \" + str(accuracy_score(y_test, preds.round())))\n",
    "\n",
    "# ROC curve for Logistics Regression\n",
    "lr = LogisticRegression(C=0.35938137)\n",
    "lr.fit(X_train, y_train)\n",
    "y_predict = lr.predict_proba(X_test)\n",
    "preds = y_predict[:,1]\n",
    "fpr, tpr, thresholds = roc_curve(y_test, preds)\n",
    "plt.plot(fpr, tpr, label='Logistics Regression')\n",
    "print(\"LR AUC: \" + str(roc_auc_score(y_test, preds)))\n",
    "print(\"LR Accuracy: \" + str(accuracy_score(y_test, preds.round())))\n",
    "\n",
    "# Linear SVM\n",
    "lsvm = SVC(kernel='linear', probability=True, C=0.027825594022071243)\n",
    "lsvm.fit(X_train, y_train)\n",
    "y_predict = lsvm.predict_proba(X_test)\n",
    "preds = y_predict[:,1]\n",
    "fpr, tpr, thresholds = roc_curve(y_test, preds)\n",
    "plt.plot(fpr, tpr, label='Linear SVM')\n",
    "print(\"LSVM AUC: \" + str(roc_auc_score(y_test, preds)))\n",
    "print(\"LSVM Accuracy: \" + str(accuracy_score(y_test, preds.round())))\n",
    "\n",
    "# RBF SVM\n",
    "rbfsvm = SVC(kernel='rbf', probability=True, C=100)\n",
    "rbfsvm.fit(X_train, y_train)\n",
    "y_predict = rbfsvm.predict_proba(X_test)\n",
    "preds = y_predict[:,1]\n",
    "fpr, tpr, thresholds = roc_curve(y_test, preds)\n",
    "plt.plot(fpr, tpr, label='RBF SVM')\n",
    "print(\"RBFSVM AUC: \" + str(roc_auc_score(y_test, preds)))\n",
    "print(\"RBFSVM Accuracy: \" + str(accuracy_score(y_test, preds.round())))\n",
    "\n",
    "# configure the plot\n",
    "plt.title('Receiver Operating Characteristic')\n",
    "plt.plot([0, 1], [0, 1],'k--')  # 45 degree\n",
    "# set the limits\n",
    "plt.xlim([0, 1])\n",
    "plt.ylim([0, 1])\n",
    "plt.ylabel('True Positive Rate')\n",
    "plt.xlabel('False Positive Rate')\n",
    "plt.legend(loc=4)\n",
    "plt.show()"
   ]
  },
  {
   "cell_type": "markdown",
   "metadata": {},
   "source": [
    "## Question 1 (3) Responses\n",
    "a. The ROC curve is shown above. \n",
    "\n",
    "b. AUC and Accuracy for each model are listed below\n",
    "\n",
    "| Model | AUC | Accuracy |\n",
    "|-------|-----|----------|\n",
    "| GNB | 0.771199503438 | 0.731681786462 |\n",
    "| LDA | 0.84615359099 | 0.788555478018 |\n",
    "| QDA | 0.871914186545 | 0.7864619679 |\n",
    "| LR | 0.847360098888 | 0.79605722261 |\n",
    "| LSVM | 0.843051540165 | 0.795359385904 |\n",
    "| RBFSVM | 0.92582749551 | 0.870900209351 |"
   ]
  },
  {
   "cell_type": "markdown",
   "metadata": {
    "ein.tags": "worksheet-0",
    "slideshow": {
     "slide_type": "-"
    }
   },
   "source": [
    "# Question 2: Bayesian Networks (10 pts)\n",
    "In the Bayesian Network shown below, the nodes represent the following random variables: S stands for \"Smoking\", LC for \"Lung Cancer\", B for \"Bronchitis\", T for \"Tuberculosis\", D for \"Dyspnea\". The necessary conditional probabilities are provided alongside. "
   ]
  },
  {
   "cell_type": "code",
   "execution_count": 1,
   "metadata": {
    "autoscroll": false,
    "ein.tags": "worksheet-0",
    "slideshow": {
     "slide_type": "-"
    }
   },
   "outputs": [
    {
     "data": {
      "image/png": "[encoded data removed]",
      "text/plain": [
       "<IPython.core.display.Image object>"
      ]
     },
     "execution_count": 1,
     "metadata": {},
     "output_type": "execute_result"
    }
   ],
   "source": [
    "from IPython.display import Image\n",
    "Image(filename='BayesianNetworks.png')"
   ]
  },
  {
   "cell_type": "markdown",
   "metadata": {
    "ein.tags": "worksheet-0",
    "slideshow": {
     "slide_type": "-"
    }
   },
   "source": [
    "$$Pr(S = yes) = 0.1$$\n",
    "$$Pr(LC = yes | S = yes) = 0.03$$\n",
    "$$Pr(LC = yes | S = no) = 0.01$$\n",
    "$$Pr(B = yes | S = yes) = 0.06$$\n",
    "$$Pr(B = yes | S = no) = 0.02$$\n",
    "$$Pr(T = yes | LC = yes, B = yes) = 0.8$$\n",
    "$$Pr(T = yes | LC = yes, B = no) = 0.5$$\n",
    "$$Pr(T = yes | LC = no, B = yes) = 0.1$$\n",
    "$$Pr(T = yes | LC = no, B = no) = 0.04$$\n",
    "$$Pr(D = yes | T = yes, B = yes) = 0.9$$\n",
    "$$Pr(D = yes | T = yes, B = no) = 0.7$$\n",
    "$$Pr(D = yes | T = no, B = yes) = 0.65$$\n",
    "$$Pr(D = yes | T = no, B = no) = 0.015$$"
   ]
  },
  {
   "cell_type": "markdown",
   "metadata": {
    "ein.tags": "worksheet-0",
    "slideshow": {
     "slide_type": "-"
    }
   },
   "source": [
    "Compute the following probabilities:\n",
    "\n",
    "(a) (2 pts) $Pr(D = yes)$\n",
    "\n",
    "(b) (2 pts) $Pr(LC = no, B = yes, D = yes)$\n",
    "\n",
    "(c) (3 pts) Given that a person has Bronchitis (B = yes) and no Lung Cancer (LC = no), the probability he will has symptoms of Dyspnea (D = yes).\n",
    "\n",
    "(d) (3 pts) Given that a person is a smoker (S = yes), the probability he will get infected with Tuberculosis (T = yes)."
   ]
  },
  {
   "cell_type": "markdown",
   "metadata": {
    "ein.tags": "worksheet-0",
    "slideshow": {
     "slide_type": "-"
    }
   },
   "source": [
    "# Answer"
   ]
  },
  {
   "cell_type": "markdown",
   "metadata": {},
   "source": [
    "## Question 2 Responses\n",
    "\n",
    "(a) Based on the equation $Pr(S, LC, B, T, D)=Pr(S)Pr(LC|S)Pr(B|S)Pr(T|LC, B)Pr(D|T, B)$, we can calcualte that $Pr(D = yes)=0.061313264$\n",
    "\n",
    "(b) Based on the calculation process in qustion (a), we can find the values of probability in the table, then, $Pr(LC = no, B = yes, D = yes)=0.015957$\n",
    "\n",
    "(c) $Pr(D=yes|LC=no, B=yes)=0.675$\n",
    "\n",
    "(d) $Pr(T=yes|S=yes)=0.057832$"
   ]
  },
  {
   "cell_type": "markdown",
   "metadata": {
    "ein.tags": "worksheet-0",
    "slideshow": {
     "slide_type": "-"
    }
   },
   "source": [
    "# Question 3: (15 pts)"
   ]
  },
  {
   "cell_type": "markdown",
   "metadata": {
    "ein.tags": "worksheet-0",
    "slideshow": {
     "slide_type": "-"
    }
   },
   "source": [
    "In this problem we will be classifying data in the CIFAR-10 dataset which contains 60000 images classified in 10 mutually exclusive classes. Please download and extract the data from https://www.cs.toronto.edu/~kriz/cifar-10-python.tar.gz\n",
    "\n",
    "For parts 1-3 we will build a classifier to determine whether an image is in class 0 or class 1. In part 4, we will classify the imges into any of 10 classes. We've included starter code to load the data from the unzipped folder.\n",
    "\n",
    "1. Train a logistic regression with almost no regularization (pass l2 (ridge) to penalty and 1,000,000 to the C parameter which is the inverse of regularization strength lambda. This essentially does l2 regularization but applies very little weight to the penalty term) and report the [confusion matrix](http://scikit-learn.org/stable/modules/generated/sklearn.metrics.confusion_matrix.html) on the test data. Also report the accuracy for the \"y = 0\" class, the \"y = 1\" class, and the average per-class accuracy on the test data. Average per-class accuracy is described in this [post](http://rasbt.github.io/mlxtend/user_guide/evaluate/scoring/). You can use your confusion matrix to calculate this.  (4pts)\n",
    "2. Repeat step 1 except use l2 penalty with Cs of [0.01, 0.1, 1, 10 ,100]. You will want to use 3-fold cross validation to select the best parameter. To evaluate which parameter is best, maximize the average per-class accuracy. To help with this task, check out [GridSearchCV](http://scikit-learn.org/stable/modules/generated/sklearn.model_selection.GridSearchCV.html#sklearn.model_selection.GridSearchCV) and how to make your own [custom scorer](http://scikit-learn.org/stable/modules/model_evaluation.html).  (4pts)\n",
    "3. Repeat question 2 except use l1 instead of l2 as the penalty type, use Cs of  [0.01, ..., 100].  Compare the performances of the models (no regularization, l2, l1) using the average per-class accuracy.  (3pts)\n",
    "4. Using the optimal regularization parameter obtained in step 2, train a logistic regression classifier with ridge penalty to clasify $\\textbf{all 10 digits}$ (digits 0,1,2,3,...9) of the MNIST dataset.  Use 'newton-cg' and 'multinomial' options for solver and multi_class parameters, respectively. Report the average per-class accuracy and confusion matrix (10 X 10) on the test data. (4pts)"
   ]
  },
  {
   "cell_type": "code",
   "execution_count": 1,
   "metadata": {
    "autoscroll": false,
    "ein.tags": "worksheet-0",
    "slideshow": {
     "slide_type": "-"
    }
   },
   "outputs": [],
   "source": [
    "import numpy as np\n",
    "import numpy.linalg as la\n",
    "import matplotlib.pyplot as plt\n",
    "import _pickle as cPickle\n",
    "from sklearn.linear_model import LogisticRegression\n",
    "from sklearn.neural_network import MLPClassifier\n",
    "from sklearn.metrics import mean_squared_error, confusion_matrix\n",
    "from sklearn.model_selection import GridSearchCV\n",
    "from sklearn.metrics import accuracy_score\n",
    "\n",
    "def unpickle(path):\n",
    "    with open(path, 'rb') as fo:\n",
    "      data = cPickle.load(fo, encoding='latin1')\n",
    "    return data\n",
    "\n",
    "def load_data(path, test=False):\n",
    "    data = []\n",
    "    labels = []\n",
    "    if test:\n",
    "        batch = unpickle(path + '/test_batch')\n",
    "        data = batch['data']\n",
    "        labels = batch['labels']\n",
    "    else:\n",
    "        for batch_num in range(1, 5):\n",
    "            batch = unpickle(path + '/data_batch_' + str(batch_num))\n",
    "            if len(data) == 0: \n",
    "                data = batch['data']\n",
    "            else:\n",
    "                data = np.concatenate([data, batch['data']], axis=0)\n",
    "            labels += batch['labels']\n",
    "    data = np.array(data)\n",
    "    labels = np.array(labels)\n",
    "    return data, labels"
   ]
  },
  {
   "cell_type": "code",
   "execution_count": 2,
   "metadata": {
    "autoscroll": false,
    "ein.tags": "worksheet-0",
    "slideshow": {
     "slide_type": "-"
    }
   },
   "outputs": [],
   "source": [
    "all_train_data, all_train_labels = load_data('./cifar-10-batches-py')\n",
    "all_test_data, all_test_labels = load_data('./cifar-10-batches-py', test=True)\n",
    "\n",
    "two_class_train_data = all_train_data[(all_train_labels == 0) | (all_train_labels == 1)]\n",
    "two_class_train_labels = all_train_labels[(all_train_labels == 0) | (all_train_labels == 1)]\n",
    "\n",
    "two_class_test_data = all_test_data[(all_test_labels == 0) | (all_test_labels == 1)]\n",
    "two_class_test_labels = all_test_labels[(all_test_labels == 0) | (all_test_labels == 1)]\n",
    "\n",
    "X_train = (two_class_train_data / 255.)\n",
    "y_train = two_class_train_labels\n",
    "\n",
    "X_test = (two_class_test_data / 255.)\n",
    "y_test = two_class_test_labels"
   ]
  },
  {
   "cell_type": "code",
   "execution_count": 3,
   "metadata": {},
   "outputs": [
    {
     "data": {
      "text/plain": [
       "(2000,)"
      ]
     },
     "execution_count": 3,
     "metadata": {},
     "output_type": "execute_result"
    }
   ],
   "source": [
    "y_test.shape"
   ]
  },
  {
   "cell_type": "code",
   "execution_count": 4,
   "metadata": {},
   "outputs": [],
   "source": [
    "X_train = X_train[np.array(range(0, 7972, 10))]\n",
    "y_train = y_train[np.array(range(0, 7972, 10))]\n",
    "\n",
    "X_test = X_test[np.array(range(0, 2000, 10))]\n",
    "y_test = y_test[np.array(range(0, 2000, 10))]"
   ]
  },
  {
   "cell_type": "markdown",
   "metadata": {},
   "source": [
    "# Answer"
   ]
  },
  {
   "cell_type": "code",
   "execution_count": 28,
   "metadata": {},
   "outputs": [
    {
     "name": "stdout",
     "output_type": "stream",
     "text": [
      "confusion matrix is: \n",
      "[[78 17]\n",
      " [30 75]]\n",
      "accuracy for class 1 is: 0.7142857142857143\n",
      "accuracy for class 0 is: 0.8210526315789474\n",
      "accuracy is: 0.765\n",
      "average per-class accuracy is: 0.765\n"
     ]
    }
   ],
   "source": [
    "lr = LogisticRegression(penalty='l2', C=1000000)\n",
    "lr.fit(X_train, y_train)\n",
    "y_predict = lr.predict(X_test)\n",
    "\n",
    "# confustion matrix\n",
    "print(\"confusion matrix is: \")\n",
    "print(confusion_matrix(y_test, y_predict))\n",
    "\n",
    "# calculate the accuracy for class 1\n",
    "number_of_correct = 0\n",
    "number_of_class = 0\n",
    "for i in range(len(y_test)):\n",
    "    if y_test[i] == 1:\n",
    "        number_of_class = number_of_class + 1\n",
    "        if y_test[i] == y_predict[i]:\n",
    "            number_of_correct = number_of_correct + 1\n",
    "            \n",
    "print(\"accuracy for class 1 is: \" + str(number_of_correct / number_of_class))\n",
    "            \n",
    "# calculate the accuracy for class 0\n",
    "number_of_correct = 0\n",
    "number_of_class = 0\n",
    "for i in range(len(y_test)):\n",
    "    if y_test[i] == 0:\n",
    "        number_of_class = number_of_class + 1\n",
    "        if y_test[i] == y_predict[i]:\n",
    "            number_of_correct = number_of_correct + 1\n",
    "        \n",
    "print(\"accuracy for class 0 is: \" + str(number_of_correct / number_of_class))\n",
    "\n",
    "# average per class accuracy\n",
    "n = len(y_test)\n",
    "ACC = (78 + 75) / n\n",
    "print(\"accuracy is: \" + str(ACC))\n",
    "APC_ACC = (78 + 75)/ 200 * 2 / 2\n",
    "print(\"average per-class accuracy is: \" + str(APC_ACC))"
   ]
  },
  {
   "cell_type": "markdown",
   "metadata": {},
   "source": [
    "## Question 3 (1) Responses\n",
    "confusion matrix is: \n",
    "[[78 17]\n",
    " [30 75]]   \n",
    "accuracy for class 1 is: 0.7142857142857143   \n",
    "accuracy for class 0 is: 0.8210526315789474   \n",
    "accuracy is: 0.765, average per-class accuracy is: 0.765, because it is the binary case, so overall accuracy is same as average per-class accuracy."
   ]
  },
  {
   "cell_type": "code",
   "execution_count": 29,
   "metadata": {},
   "outputs": [
    {
     "name": "stdout",
     "output_type": "stream",
     "text": [
      "best parameter of C is: {'C': 0.01}\n"
     ]
    }
   ],
   "source": [
    "from sklearn.metrics import make_scorer\n",
    "'''\n",
    "Repeat step 1 except use l2 penalty with Cs of [0.01, 0.1, 1, 10 ,100]. \n",
    "You will want to use 3-fold cross validation to select the best parameter. \n",
    "To evaluate which parameter is best, maximize the average per-class accuracy. \n",
    "To help with this task, check out GridSearchCV and how to make your own custom scorer. (4pts)\n",
    "'''\n",
    "# make custom scorer\n",
    "accuracy_scorer = make_scorer(accuracy_score)\n",
    "\n",
    "# make model with cv = 3\n",
    "parameters = {'C':[0.01, 0.1, 1, 10, 100]}\n",
    "lr = LogisticRegression(penalty='l2')\n",
    "clf = GridSearchCV(lr, cv=3, param_grid=parameters, scoring=accuracy_scorer)\n",
    "clf.fit(X_train, y_train)\n",
    "print(\"best parameter of C is: \" + str(clf.best_params_))"
   ]
  },
  {
   "cell_type": "code",
   "execution_count": 30,
   "metadata": {},
   "outputs": [
    {
     "name": "stdout",
     "output_type": "stream",
     "text": [
      "confusion matrix is: \n",
      "[[78 17]\n",
      " [27 78]]\n",
      "accuracy for class 1 is: 0.7428571428571429\n",
      "accuracy for class 0 is: 0.8210526315789474\n",
      "accuracy is: 0.78\n",
      "average per-class accuracy is: 0.78\n"
     ]
    }
   ],
   "source": [
    "# repeat the question 1\n",
    "lr = LogisticRegression(penalty='l2', C=0.01)\n",
    "lr.fit(X_train, y_train)\n",
    "y_predict = lr.predict(X_test)\n",
    "\n",
    "# confustion matrix\n",
    "print(\"confusion matrix is: \")\n",
    "print(confusion_matrix(y_test, y_predict))\n",
    "\n",
    "# calculate the accuracy for class 1\n",
    "number_of_correct = 0\n",
    "number_of_class = 0\n",
    "for i in range(len(y_test)):\n",
    "    if y_test[i] == 1:\n",
    "        number_of_class = number_of_class + 1\n",
    "        if y_test[i] == y_predict[i]:\n",
    "            number_of_correct = number_of_correct + 1\n",
    "            \n",
    "print(\"accuracy for class 1 is: \" + str(number_of_correct / number_of_class))\n",
    "            \n",
    "# calculate the accuracy for class 0\n",
    "number_of_correct = 0\n",
    "number_of_class = 0\n",
    "for i in range(len(y_test)):\n",
    "    if y_test[i] == 0:\n",
    "        number_of_class = number_of_class + 1\n",
    "        if y_test[i] == y_predict[i]:\n",
    "            number_of_correct = number_of_correct + 1\n",
    "        \n",
    "print(\"accuracy for class 0 is: \" + str(number_of_correct / number_of_class))\n",
    "\n",
    "# average per class accuracy\n",
    "n = len(y_test)\n",
    "ACC = (78 + 78) / n\n",
    "print(\"accuracy is: \" + str(ACC))\n",
    "APC_ACC = (78 + 78)/ 200 * 2 / 2\n",
    "print(\"average per-class accuracy is: \" + str(APC_ACC))"
   ]
  },
  {
   "cell_type": "markdown",
   "metadata": {},
   "source": [
    "## Question 3 (2) Responses\n",
    "best parameter of C is: {'C': 0.01}   \n",
    "confusion matrix is: \n",
    "[[78 17]\n",
    " [27 78]]   \n",
    "accuracy for class 1 is: 0.7428571428571429   \n",
    "accuracy for class 0 is: 0.8210526315789474   \n",
    "accuracy is: 0.78   \n",
    "average per-class accuracy is: 0.78   "
   ]
  },
  {
   "cell_type": "code",
   "execution_count": 31,
   "metadata": {},
   "outputs": [
    {
     "name": "stdout",
     "output_type": "stream",
     "text": [
      "best parameter of C is: {'C': 1}\n"
     ]
    }
   ],
   "source": [
    "'''\n",
    "Repeat question 2 except use l1 instead of l2 as the penalty type, \n",
    "use Cs of [0.01, ..., 100]. Compare the performances of the models (no regularization, l2, l1) \n",
    "using the average per-class accuracy.\n",
    "'''\n",
    "\n",
    "# make custom scorer\n",
    "accuracy_scorer = make_scorer(accuracy_score)\n",
    "\n",
    "# make model with cv = 3\n",
    "parameters = {'C':[0.01, 0.1, 1, 10, 100]}\n",
    "lr = LogisticRegression(penalty='l1')\n",
    "clf = GridSearchCV(lr, cv=3, param_grid=parameters, scoring=accuracy_scorer, n_jobs=-1)\n",
    "clf.fit(X_train, y_train)\n",
    "print(\"best parameter of C is: \" + str(clf.best_params_))"
   ]
  },
  {
   "cell_type": "code",
   "execution_count": 46,
   "metadata": {},
   "outputs": [
    {
     "name": "stdout",
     "output_type": "stream",
     "text": [
      "confusion matrix is: \n",
      "[[75 20]\n",
      " [23 82]]\n",
      "accuracy for class 1 is: 0.780952380952381\n",
      "accuracy for class 0 is: 0.7894736842105263\n",
      "accuracy is: 0.785\n",
      "average per-class accuracy is: 0.785\n"
     ]
    }
   ],
   "source": [
    "# repeat question 3 (2)\n",
    "lr = LogisticRegression(penalty='l1', C=1)\n",
    "lr.fit(X_train, y_train)\n",
    "y_predict = lr.predict(X_test)\n",
    "\n",
    "\n",
    "\n",
    "# LR_l1_BestC = LogisticRegression(penalty='l1', C=1)\n",
    "# LR_l1_BestC.fit(X_train, y_train)\n",
    "\n",
    "# y_LR_l1_predict = LR_l1_BestC.predict(X_test)\n",
    "# con_LR_l1_matrix = confusion_matrix(y_test, y_LR_l1_predict)\n",
    "# con_LR_l1_matrix\n",
    "\n",
    "\n",
    "# confustion matrix\n",
    "print(\"confusion matrix is: \")\n",
    "print(confusion_matrix(y_test, y_predict))\n",
    "\n",
    "# calculate the accuracy for class 1\n",
    "number_of_correct = 0\n",
    "number_of_class = 0\n",
    "for i in range(len(y_test)):\n",
    "    if y_test[i] == 1:\n",
    "        number_of_class = number_of_class + 1\n",
    "        if y_test[i] == y_predict[i]:\n",
    "            number_of_correct = number_of_correct + 1\n",
    "            \n",
    "print(\"accuracy for class 1 is: \" + str(number_of_correct / number_of_class))\n",
    "            \n",
    "# calculate the accuracy for class 0\n",
    "number_of_correct = 0\n",
    "number_of_class = 0\n",
    "for i in range(len(y_test)):\n",
    "    if y_test[i] == 0:\n",
    "        number_of_class = number_of_class + 1\n",
    "        if y_test[i] == y_predict[i]:\n",
    "            number_of_correct = number_of_correct + 1\n",
    "        \n",
    "print(\"accuracy for class 0 is: \" + str(number_of_correct / number_of_class))\n",
    "\n",
    "# average per class accuracy\n",
    "n = len(y_test)\n",
    "ACC = (75 + 82) / n\n",
    "print(\"accuracy is: \" + str(ACC))\n",
    "APC_ACC = (75 + 82)/ 200 * 2 / 2\n",
    "print(\"average per-class accuracy is: \" + str(APC_ACC))"
   ]
  },
  {
   "cell_type": "markdown",
   "metadata": {},
   "source": [
    "## Question 3 (3) Responses\n",
    "best parameter of C using l2 as pelnaty is: {'C': 1}\n",
    "confusion matrix is: \n",
    "[[75 20]\n",
    " [23 82]]   \n",
    "accuracy for class 1 is: 0.780952380952381   \n",
    "accuracy for class 0 is: 0.7894736842105263   \n",
    "accuracy is: 0.785   \n",
    "average per-class accuracy is: 0.785   \n",
    "\n",
    "### Compare with 3 Models by Average per Class Accuracy\n",
    "1. No Regularization -> 0.765\n",
    "2. l2 as penalty -> 0.78\n",
    "3. l1 as penalty -> 0.785\n",
    "\n",
    "We can see that l2 and l1 with almost the same performance in average per-class accuracy. The model with no regularization has the worst performance. Because, the ridge and lasso regularization term can prevent the over-fit in the model. And by using cross validation on test data and grid search for parameter C, we naturally get the \"best\" result on lasso and ridge."
   ]
  },
  {
   "cell_type": "code",
   "execution_count": 49,
   "metadata": {},
   "outputs": [
    {
     "name": "stdout",
     "output_type": "stream",
     "text": [
      "confusion matrix for 10 digits is: \n",
      "[[489  43  56  38  21  32  22  47 177  75]\n",
      " [ 55 498  33  35  21  35  41  50  73 159]\n",
      " [ 98  44 286  85 118  86 152  67  43  21]\n",
      " [ 40  58 102 263  62 187 136  49  39  64]\n",
      " [ 55  30 134  71 297  81 165 113  27  27]\n",
      " [ 39  48  93 172  74 344  89  70  50  21]\n",
      " [ 14  38  78 125  90  77 497  37  14  30]\n",
      " [ 42  50  65  63  84  78  48 460  35  75]\n",
      " [157  70  23  23   8  51   8  19 537 104]\n",
      " [ 74 187  18  29  17  28  43  51  87 466]]\n"
     ]
    }
   ],
   "source": [
    "'''\n",
    "Using the optimal regularization parameter obtained in step 2, \n",
    "train a logistic regression classifier with ridge penalty to \n",
    "clasify  all 10 digitsall 10 digits  (digits 0,1,2,3,...9) of the MNIST dataset. \n",
    "Use 'newton-cg' and 'multinomial' options for solver and multi_class parameters, respectively. \n",
    "Report the average per-class accuracy and confusion matrix (10 X 10) on the test data. (4pts)\n",
    "'''\n",
    "# preprocess the data\n",
    "X_train = (all_train_data / 255.)\n",
    "y_train = all_train_labels\n",
    "\n",
    "X_test = (all_test_data / 255.)\n",
    "y_test = all_test_labels\n",
    "\n",
    "# construct the model\n",
    "lr = LogisticRegression(penalty='l2', C=0.01, solver='newton-cg', multi_class='multinomial', n_jobs=-1)\n",
    "lr.fit(X_train, y_train)\n",
    "\n",
    "y_predict = lr.predict(X_test)\n",
    "matrix = confusion_matrix(y_test, y_predict)\n",
    "print(\"confusion matrix for 10 digits is: \")\n",
    "print(matrix)"
   ]
  },
  {
   "cell_type": "code",
   "execution_count": 59,
   "metadata": {},
   "outputs": [
    {
     "name": "stdout",
     "output_type": "stream",
     "text": [
      "The average per-class accuracy is: 0.8827399999999999\n"
     ]
    }
   ],
   "source": [
    "# calculate the average per class accuracy\n",
    "\n",
    "# calculate the sum\n",
    "global_sum = 0\n",
    "\n",
    "for i in range(10):\n",
    "    for j in range(10):\n",
    "        global_sum = global_sum + matrix[i][j]\n",
    "\n",
    "# calculate the APC ACC\n",
    "final_average = 0\n",
    "for i in range(10):\n",
    "    sum = global_sum\n",
    "    for j in range(10):  # vertical\n",
    "        if (j != i):\n",
    "            sum = sum - matrix[j][i]  # vertical \n",
    "            sum = sum - matrix[i][j]  # horizontal\n",
    "    final_average = final_average + (sum / global_sum)\n",
    "    \n",
    "# print the APC ACC\n",
    "APC_ACC = final_average / 10\n",
    "print(\"The average per-class accuracy is: \" + str(APC_ACC))"
   ]
  },
  {
   "cell_type": "markdown",
   "metadata": {},
   "source": [
    "## Question 3 (4) Responses\n",
    "confusion matrix for 10 digits is:    \n",
    "[[489  43  56  38  21  32  22  47 177  75]   \n",
    " [ 55 498  33  35  21  35  41  50  73 159]   \n",
    " [ 98  44 286  85 118  86 152  67  43  21]   \n",
    " [ 40  58 102 263  62 187 136  49  39  64]   \n",
    " [ 55  30 134  71 297  81 165 113  27  27]   \n",
    " [ 39  48  93 172  74 344  89  70  50  21]   \n",
    " [ 14  38  78 125  90  77 497  37  14  30]   \n",
    " [ 42  50  65  63  84  78  48 460  35  75]   \n",
    " [157  70  23  23   8  51   8  19 537 104]   \n",
    " [ 74 187  18  29  17  28  43  51  87 466]]  \n",
    " \n",
    "The average per-class accuracy is: 0.8827399999999999"
   ]
  },
  {
   "cell_type": "markdown",
   "metadata": {},
   "source": [
    "# Question 4: (10 pts)\n",
    "In this problem, we will perform some very basic image recovery using linear regression. The main purpose of this example is to set up the Azure cloud and get acquainted with the environment. Download the dataset on the remote machine into the same folder as this notebook.\n",
    "\n",
    "This part of the homework must be run on the azure cloud machine. We will doublecheck that everyone has used at least a portion of their allocated resources to ensure that everyone has successfully set up the VM.\n",
    "\n",
    "### Using Linear Regression for Image Recovery\n",
    "Given a set of uncorrupted images, $X$, and a single corrupted image $y$, we can find a linear combination of the images in the dataset which best reproduce the corrupted image. This sounds like a regression problem! \n",
    "\n",
    "Obviously, if we perfectly reproduce the corrupted image, then we haven't done a good job recovering the original image. However, if we introduce a penalty on the number of images used in the solution, then we can reproduce a decent approximation of the original image.\n",
    "\n",
    "After finding a linear combination of the images $\\beta$, $X\\beta$ will give us our recovered image (this is done for you in the `recover` function below). Once again, for the result to be an acceptable recovery of the image $X\\beta$ should not exactly equal $y$ since $y$ is the corrupted image.\n",
    "\n",
    "Each image is flattened into a vector of lengh 4096 (each image is 64x64) and the columns of $X$ correspond to the uncorrupted images in the dataset. You can think of the uncorrupted images in the dataset as the features.\n",
    "\n",
    "The starter code we have provided below does most of the work for us, all that is left to do is to:\n",
    "1. Modify the `ols` and `ridge` functions to solve OLS and ridge, respectively on the arguments provided to the functions ($X$ and $y$). (6pts)\n",
    "2. Try different values of the regularization coefficient for the ridge problem. You should be able to get a decent reproduction of the original image. (2pts)\n",
    "3. Explain why OLS does a bad job recovering the image, but ridge does an acceptable job with a good choice of alpha (2pts)"
   ]
  },
  {
   "cell_type": "code",
   "execution_count": 1,
   "metadata": {},
   "outputs": [],
   "source": [
    "from scipy.io import loadmat\n",
    "\n",
    "from sklearn.linear_model import LinearRegression\n",
    "from sklearn.linear_model import Lasso\n",
    "from sklearn.linear_model import Ridge\n",
    "\n",
    "import matplotlib\n",
    "matplotlib.use('Agg')\n",
    "import matplotlib.pyplot as plt\n",
    "\n",
    "from matplotlib.pyplot import imshow\n",
    "\n",
    "import numpy as np\n",
    "import numpy.linalg as la\n",
    "\n",
    "import PIL.Image\n",
    "import glob\n",
    "import re\n",
    "\n",
    "def read_image_array(image_path):\n",
    "  im = np.asarray(PIL.Image.open(image_path)).ravel()\n",
    "  return im\n",
    "\n",
    "def read_images(ignore=[]):\n",
    "  frame_path = 'faces/'\n",
    "  frames = []\n",
    "  file_list = glob.glob(frame_path + \"*.png\")\n",
    "  for file_name in set(file_list) - set(ignore):\n",
    "    frames.append(read_image_array(file_name))\n",
    "  frames_array = np.array(frames).T\n",
    "  normalized = frames_array / 255.0 - np.mean(frames_array / 255.0, axis=0)\n",
    "  return normalized\n",
    "\n",
    "def ols(X, y):\n",
    "  ols = LinearRegression()\n",
    "  ols.fit(X, y)\n",
    "  model = ols.coef_\n",
    "  return model\n",
    "\n",
    "def ridge(X, y):\n",
    "  #UPDATE THIS FUNCTION\n",
    "  ridge = Ridge()\n",
    "  ridge.fit(X, y)\n",
    "  model = ridge.coef_\n",
    "  return model\n",
    "\n",
    "def get_reference_image_name(corrupted_image_name):\n",
    "  parts = corrupted_image_name.split(\"_\")\n",
    "  return parts[1]\n",
    "\n",
    "def recover(method, name):\n",
    "  print(\"Recovering with\", name)\n",
    "  plt.figure()\n",
    "  corrupted_image_name = \"cor_585.png\"\n",
    "  print(\"recovering\", corrupted_image_name)\n",
    "  corrupted_image_path = corrupted_image_name\n",
    "  original_image_dimensions = np.asarray(PIL.Image.open(corrupted_image_path)).shape\n",
    "  reference_image_name = get_reference_image_name(corrupted_image_name)\n",
    "  reference_image = read_image_array('faces/' + reference_image_name)\n",
    "  reference_image_normalized = reference_image / 255.0 - np.mean(reference_image / 255.0)\n",
    "  corrupted_image = read_image_array(corrupted_image_path)\n",
    "  corrupted_image_normalized = corrupted_image / 255.0 - np.mean(corrupted_image / 255.0)\n",
    "  image_database = read_images()\n",
    "  model = method(image_database, corrupted_image_normalized)\n",
    "  recovered_image = np.dot(image_database, model)\n",
    "  recovered_image_restored = (np.dot(image_database, model) + np.mean(corrupted_image / 255.0)) * 255\n",
    "  return imshow(PIL.Image.fromarray(np.int32(recovered_image_restored.reshape(original_image_dimensions))).convert(\"L\"), cmap='gray')"
   ]
  },
  {
   "cell_type": "markdown",
   "metadata": {},
   "source": [
    "The code below will then save the restored images to the filesystem."
   ]
  },
  {
   "cell_type": "code",
   "execution_count": 2,
   "metadata": {
    "scrolled": false
   },
   "outputs": [
    {
     "name": "stdout",
     "output_type": "stream",
     "text": [
      "Recovering with OLS\n",
      "recovering cor_585.png\n"
     ]
    },
    {
     "data": {
      "text/plain": [
       "<matplotlib.image.AxesImage at 0x7f3249196358>"
      ]
     },
     "execution_count": 2,
     "metadata": {},
     "output_type": "execute_result"
    },
    {
     "data": {
      "image/png": "[encoded data removed]",
      "text/plain": [
       "<Figure size 432x288 with 1 Axes>"
      ]
     },
     "metadata": {},
     "output_type": "display_data"
    }
   ],
   "source": [
    "%matplotlib inline\n",
    "recover(ols, 'OLS')"
   ]
  },
  {
   "cell_type": "code",
   "execution_count": 3,
   "metadata": {},
   "outputs": [
    {
     "name": "stdout",
     "output_type": "stream",
     "text": [
      "Recovering with Ridge\n",
      "recovering cor_585.png\n"
     ]
    },
    {
     "data": {
      "text/plain": [
       "<matplotlib.image.AxesImage at 0x7f3249175198>"
      ]
     },
     "execution_count": 3,
     "metadata": {},
     "output_type": "execute_result"
    },
    {
     "data": {
      "image/png": "[encoded data removed]",
      "text/plain": [
       "<Figure size 432x288 with 1 Axes>"
      ]
     },
     "metadata": {},
     "output_type": "display_data"
    }
   ],
   "source": [
    "recover(ridge, 'Ridge')"
   ]
  },
  {
   "cell_type": "code",
   "execution_count": 6,
   "metadata": {
    "scrolled": false
   },
   "outputs": [
    {
     "name": "stdout",
     "output_type": "stream",
     "text": [
      "Recovering with Ridge\n",
      "recovering cor_585.png\n",
      "Recovering with Ridge\n",
      "recovering cor_585.png\n",
      "Recovering with Ridge\n",
      "recovering cor_585.png\n",
      "Recovering with Ridge\n",
      "recovering cor_585.png\n",
      "Recovering with Ridge\n",
      "recovering cor_585.png\n",
      "Recovering with Ridge\n",
      "recovering cor_585.png\n",
      "Recovering with Ridge\n",
      "recovering cor_585.png\n",
      "Recovering with Ridge\n",
      "recovering cor_585.png\n",
      "Recovering with Ridge\n",
      "recovering cor_585.png\n",
      "Recovering with Ridge\n",
      "recovering cor_585.png\n"
     ]
    },
    {
     "data": {
      "image/png": "[encoded data removed]",
      "text/plain": [
       "<Figure size 432x288 with 1 Axes>"
      ]
     },
     "metadata": {},
     "output_type": "display_data"
    },
    {
     "data": {
      "image/png": "[encoded data removed]",
      "text/plain": [
       "<Figure size 432x288 with 1 Axes>"
      ]
     },
     "metadata": {},
     "output_type": "display_data"
    },
    {
     "data": {
      "image/png": "[encoded data removed]",
      "text/plain": [
       "<Figure size 432x288 with 1 Axes>"
      ]
     },
     "metadata": {},
     "output_type": "display_data"
    },
    {
     "data": {
      "image/png": "[encoded data removed]",
      "text/plain": [
       "<Figure size 432x288 with 1 Axes>"
      ]
     },
     "metadata": {},
     "output_type": "display_data"
    },
    {
     "data": {
      "image/png": "[encoded data removed]",
      "text/plain": [
       "<Figure size 432x288 with 1 Axes>"
      ]
     },
     "metadata": {},
     "output_type": "display_data"
    },
    {
     "data": {
      "image/png": "[encoded data removed]",
      "text/plain": [
       "<Figure size 432x288 with 1 Axes>"
      ]
     },
     "metadata": {},
     "output_type": "display_data"
    },
    {
     "data": {
      "image/png": "[encoded data removed]",
      "text/plain": [
       "<Figure size 432x288 with 1 Axes>"
      ]
     },
     "metadata": {},
     "output_type": "display_data"
    },
    {
     "data": {
      "image/png": "[encoded data removed]",
      "text/plain": [
       "<Figure size 432x288 with 1 Axes>"
      ]
     },
     "metadata": {},
     "output_type": "display_data"
    },
    {
     "data": {
      "image/png": "[encoded data removed]",
      "text/plain": [
       "<Figure size 432x288 with 1 Axes>"
      ]
     },
     "metadata": {},
     "output_type": "display_data"
    },
    {
     "data": {
      "image/png": "[encoded data removed]",
      "text/plain": [
       "<Figure size 432x288 with 1 Axes>"
      ]
     },
     "metadata": {},
     "output_type": "display_data"
    }
   ],
   "source": [
    "def ridge(X, y, alpha):\n",
    "  #UPDATE THIS FUNCTION\n",
    "  ridge = Ridge(alpha=alpha, solver='auto')\n",
    "  ridge.fit(X, y)\n",
    "  model = ridge.coef_\n",
    "  return model\n",
    "\n",
    "def recover(method, name, alpha):\n",
    "  print(\"Recovering with\", name)\n",
    "  plt.figure()\n",
    "  corrupted_image_name = \"cor_585.png\"\n",
    "  print(\"recovering\", corrupted_image_name)\n",
    "  corrupted_image_path = corrupted_image_name\n",
    "  original_image_dimensions = np.asarray(PIL.Image.open(corrupted_image_path)).shape\n",
    "  reference_image_name = get_reference_image_name(corrupted_image_name)\n",
    "  reference_image = read_image_array('faces/' + reference_image_name)\n",
    "  reference_image_normalized = reference_image / 255.0 - np.mean(reference_image / 255.0)\n",
    "  corrupted_image = read_image_array(corrupted_image_path)\n",
    "  corrupted_image_normalized = corrupted_image / 255.0 - np.mean(corrupted_image / 255.0)\n",
    "  image_database = read_images()\n",
    "  model = method(image_database, corrupted_image_normalized, alpha)\n",
    "  recovered_image = np.dot(image_database, model)\n",
    "  recovered_image_restored = (np.dot(image_database, model) + np.mean(corrupted_image / 255.0)) * 255\n",
    "  return imshow(PIL.Image.fromarray(np.int32(recovered_image_restored.reshape(original_image_dimensions))).convert(\"L\"), cmap='gray')\n",
    "\n",
    "%matplotlib inline\n",
    "alphas = np.linspace(0.1, 1000, 10)\n",
    "\n",
    "for alpha in alphas:\n",
    "    recover(ridge, 'Ridge', alpha)"
   ]
  },
  {
   "cell_type": "markdown",
   "metadata": {},
   "source": [
    "## Question 4 Responses\n",
    "1. See above\n",
    "2. We try 10 different alpha from 0.1 to 1000, you can see the result getting better but quality is the tradeoff.\n",
    "3. Reason"
   ]
  },
  {
   "cell_type": "markdown",
   "metadata": {
    "ein.tags": "worksheet-0",
    "slideshow": {
     "slide_type": "-"
    }
   },
   "source": [
    "# Question 5: (5 pts)\n",
    "What are two properties of Naïve Bayes that make it so suitable for parallel/distributed computation and for analyzing \"streaming\" data (e.g. each document is processed only once and need not be further stored or revisited)? (5 pts)"
   ]
  },
  {
   "cell_type": "markdown",
   "metadata": {
    "ein.tags": "worksheet-0",
    "slideshow": {
     "slide_type": "-"
    }
   },
   "source": [
    "# Answer\n"
   ]
  }
 ],
 "metadata": {
  "kernelspec": {
   "display_name": "Python [default]",
   "language": "python",
   "name": "python3"
  },
  "language_info": {
   "codemirror_mode": {
    "name": "ipython",
    "version": 3
   },
   "file_extension": ".py",
   "mimetype": "text/x-python",
   "name": "python",
   "nbconvert_exporter": "python",
   "pygments_lexer": "ipython3",
   "version": "3.5.4"
  },
  "name": "HW4-S18Sol.ipynb"
 },
 "nbformat": 4,
 "nbformat_minor": 1
}
